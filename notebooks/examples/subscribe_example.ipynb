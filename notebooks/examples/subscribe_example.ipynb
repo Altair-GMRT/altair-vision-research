{
 "cells": [
  {
   "cell_type": "code",
   "execution_count": null,
   "metadata": {},
   "outputs": [
    {
     "ename": "",
     "evalue": "",
     "output_type": "error",
     "traceback": [
      "\u001b[1;31mFailed to connect to the remote Jupyter Server 'http://127.0.0.1:8888/'. Verify the server is running and reachable. (Failed to connect to the remote Jupyter Server 'http://127.0.0.1:8888/'. Verify the server is running and reachable. (request to http://127.0.0.1:8888/api/kernels?1711304354371 failed, reason: socket hang up).)."
     ]
    }
   ],
   "source": [
    "import rclpy\n",
    "from rclpy.node import Node\n",
    "import std_msgs.msg as std_msgs \n",
    "\n",
    "\n",
    "\n",
    "class JupyterNode(Node):\n",
    "\n",
    "    def __init__(self) -> None:\n",
    "        super().__init__('JupyterNode')\n",
    "\n",
    "        self.subscriber = self.create_subscription(\n",
    "            msg_type    = std_msgs.String,\n",
    "            topic       = 'example_topic',\n",
    "            callback    = self.subCallback,\n",
    "            qos_profile = 1000\n",
    "        )\n",
    "\n",
    "    def subCallback(self, msg:std_msgs.String) -> None:\n",
    "        print(f'[example_topic]: {msg.data}')\n",
    "\n",
    "\n",
    "\n",
    "def main(args=None) -> None:\n",
    "    rclpy.init()\n",
    "    node = JupyterNode()\n",
    "\n",
    "    rclpy.spin(node)\n",
    "\n",
    "    node.destroy_node()\n",
    "    rclpy.shutdown()\n",
    "\n",
    "\n",
    "\n",
    "main()"
   ]
  }
 ],
 "metadata": {
  "kernelspec": {
   "display_name": "Python 3 (ipykernel)",
   "language": "python",
   "name": "python3"
  }
 },
 "nbformat": 4,
 "nbformat_minor": 2
}
